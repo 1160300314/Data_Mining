{
 "cells": [
  {
   "cell_type": "markdown",
   "metadata": {
    "collapsed": true,
    "pycharm": {
     "name": "#%% md\n"
    }
   },
   "source": [
    "**此文件用于数据的预处理**\n"
   ]
  },
  {
   "cell_type": "code",
   "execution_count": 1,
   "metadata": {
    "pycharm": {
     "is_executing": false,
     "name": "#%% \n"
    }
   },
   "outputs": [
    {
     "name": "stdout",
     "output_type": "stream",
     "text": [
      "user_artist_data.txt 中数据行数：\n",
      " 24296858\n",
      "\n",
      "user_artist_data.txt 中数据格式\n",
      "1000002 1 55\n",
      "1000002 1000006 33\n",
      "1000002 1000007 8\n",
      "1000002 1000009 144\n",
      "1000002 1000010 314\n",
      "\n"
     ]
    }
   ],
   "source": [
    "import os\n",
    "\n",
    "print('user_artist_data.txt 中数据行数：')\n",
    "print(os.popen('cat user_artist_data.txt | wc -l').read())\n",
    "print('user_artist_data.txt 中数据格式')\n",
    "print(os.popen('head -5 user_artist_data.txt').read())"
   ]
  },
  {
   "cell_type": "markdown",
   "metadata": {
    "pycharm": {
     "name": "#%% md\n"
    }
   },
   "source": [
    "可以看到`user_artist_data.txt`中共有2400万条数据，其合法的格式应该为`user_id artist_id times`，所以我们利用shell脚本统计一下合理的格式的\n",
    "数据共有多少。"
   ]
  },
  {
   "cell_type": "code",
   "execution_count": 2,
   "metadata": {
    "pycharm": {
     "is_executing": false,
     "name": "#%%\n"
    }
   },
   "outputs": [
    {
     "name": "stdout",
     "output_type": "stream",
     "text": [
      "24296858\n",
      "\n"
     ]
    }
   ],
   "source": [
    "print(os.popen('grep -Ec \"^[0-9]+ [0-9]+ [0-9]+$\" user_artist_data.txt').read())"
   ]
  },
  {
   "cell_type": "markdown",
   "metadata": {
    "pycharm": {
     "name": "#%% md\n"
    }
   },
   "source": [
    "可以看到符合合法格式的数据与数据的总量相同，所以对于`user_aritist_data.txt`这个文件不用进行关于格式的预处理。\n"
   ]
  },
  {
   "cell_type": "code",
   "execution_count": 3,
   "metadata": {
    "pycharm": {
     "is_executing": false,
     "name": "#%% \n"
    }
   },
   "outputs": [
    {
     "name": "stdout",
     "output_type": "stream",
     "text": [
      "artist_data.txt 中数据的行数\n",
      " 1848579\n",
      "\n",
      "artist_data.txt 中数据格式\n",
      "1134999\t06Crazy Life\n",
      "6821360\tPang Nakarin\n",
      "10113088\tTerfel, Bartoli- Mozart: Don\n",
      "10151459\tThe Flaming Sidebur\n",
      "6826647\tBodenstandig 3000\n",
      "\n"
     ]
    }
   ],
   "source": [
    "print('artist_data.txt 中数据的行数')\n",
    "print(os.popen('cat artist_data.txt | wc -l').read())\n",
    "print('artist_data.txt 中数据格式')\n",
    "print(os.popen('head -5 artist_data.txt').read())\n",
    "# 很奇怪的一点是\"似乎在pycharm中可以直接使用python调用shell并且可以使用转义符号\""
   ]
  },
  {
   "cell_type": "markdown",
   "metadata": {
    "pycharm": {
     "name": "#%% md\n"
    }
   },
   "source": [
    "类似的来看`artist_data.txt`，这个文件中共有180万数据，其合法格式应该为`artist_id <tab> aritist_name`，类似的我们使用shell脚本统计一下\n",
    "合法的数据共有多少。\n",
    "\n",
    "由于`<tab>`在python中的调用使用转义和linux的输入方式均不能得到最终的结果，所以我们直接在终端中使用下面的shell命令来统计相关信息。\n",
    "```shell\n",
    "grep -Ec \"^[0-9]+<Control-v><tab>[^<Control-v><tab>^M]+$\"\n",
    "```\n",
    "其中`^M`表示换行符，以上命令的结果为1848063，也就是并不是所有的数据都是符合要求的。\n",
    "\n",
    "所以我们将数据关于格式的预处理\n",
    "- 正确格式的数据存放在`artist_correct_format_data.txt`\n",
    "- 错误格式的数据存放在`artist_wrong_format_data.txt`\n"
   ]
  },
  {
   "cell_type": "code",
   "execution_count": 4,
   "metadata": {
    "pycharm": {
     "is_executing": false,
     "name": "#%% \n"
    }
   },
   "outputs": [
    {
     "name": "stdout",
     "output_type": "stream",
     "text": [
      "artist_alias.txt 中数据的行数\n",
      "  193027\n",
      "\n",
      "artist_data.txt 中数据格式\n",
      "1092764\t1000311\n",
      "1095122\t1000557\n",
      "6708070\t1007267\n",
      "10088054\t1042317\n",
      "1195917\t1042317\n",
      "\n"
     ]
    }
   ],
   "source": [
    "print('artist_alias.txt 中数据的行数')\n",
    "print(os.popen('cat artist_alias.txt | wc -l').read())\n",
    "print('artist_data.txt 中数据格式')\n",
    "print(os.popen('head -5 artist_alias.txt').read())"
   ]
  },
  {
   "cell_type": "markdown",
   "metadata": {
    "pycharm": {
     "name": "#%% md\n"
    }
   },
   "source": [
    "同样对于`artist_alias.txt`文件，其中包含19万余条数据，正确的格式应该为`artist_id <tab> artist_correct_id`。\n",
    "由于类似的原因，我们也直接使用shell命令进行处理。\n",
    "```shell\n",
    "grep -Ec \"^[0-9]+<control-v><tab>[0-9]+$\" artist_alia.txt\n",
    "```\n",
    "\n",
    "结果为193027，所以存在格式不合法的数据。类似上面的操作。\n",
    "\n",
    "- 正确格式的数据存放在`artist_correct_format_alias.txt`\n",
    "- 错误格式的数据存放在`artist_wrong_format_alias.txt`"
   ]
  },
  {
   "cell_type": "code",
   "execution_count": 5,
   "metadata": {
    "pycharm": {
     "is_executing": false
    }
   },
   "outputs": [],
   "source": [
    "# 建立从user_id到矩阵下标的映射\n",
    "user_to_index = dict()\n",
    "# 建立从artist_id到矩阵下标的映射\n",
    "artist_to_index = dict()\n",
    "# user和artist的数量\n",
    "user_number = 0\n",
    "artist_number = 0\n",
    "\n",
    "artist_alias = dict()   # wrong_id, correct_id\n",
    "artist_data = dict()    # artist_id, artist_name\n",
    "user_artist = dict()    # (user_index, artist_index), times\n",
    "\n",
    "with open('./artist_correct_format_alias.txt', 'r') as f:\n",
    "    for line in f.readlines():\n",
    "        line = line.replace('\\n', '')\n",
    "        wrong, correct = line.split('\\t', 2)\n",
    "        artist_alias[wrong] = correct\n",
    "\n",
    "with open('./artist_correct_format_data.txt', 'r') as f:\n",
    "    for line in f.readlines():\n",
    "        line = line.replace('\\n', '')\n",
    "        artist_id, artist_name = line.split('\\t', 2)\n",
    "        artist_data[artist_id] = artist_name\n",
    "        # 如果有重复的artist_id出现，去最后一次出现的值\n",
    "        if artist_id not in artist_to_index:\n",
    "            artist_to_index[artist_id] = artist_number\n",
    "            artist_number = artist_number + 1\n",
    "\n",
    "with open('./user_artist_data.txt', 'r') as f:\n",
    "    for line in f.readlines():\n",
    "        line = line.replace('\\n', '')\n",
    "        user_id, artist_id, times = line.split(' ', 3)\n",
    "        user_index = -1\n",
    "        artist_index = -1\n",
    "        if artist_id in artist_alias:\n",
    "            artist_id = artist_alias.get(artist_id)\n",
    "\n",
    "        if artist_id not in artist_to_index:\n",
    "            continue    # 存在部分artist_id在artist_data.txt中不存在的现象\n",
    "        else:\n",
    "            artist_index = artist_to_index.get(artist_id)\n",
    "\n",
    "        if user_id in user_to_index:\n",
    "            user_index = user_to_index.get(user_id)\n",
    "        else:\n",
    "            user_to_index[user_id] = user_number\n",
    "            user_index = user_number\n",
    "            user_number = user_number + 1\n",
    "        # 如果有重复的user_index, artist_index出现，取最后一次有效的值\n",
    "        user_artist[(user_index, artist_index)] = eval(times)\n",
    "\n",
    "with open('./out.txt', 'w') as f:\n",
    "    for item in user_artist.items():\n",
    "        f.write(str(item[0][0]) + ',' + str(item[0][1]) + ',' + str(item[1]) + '\\n')\n",
    "\n",
    "with open('./user_id_to_index.txt', 'w') as f:\n",
    "    for item in user_to_index.items():\n",
    "        f.write(item[0] + ',' + str(item[1]) + '\\n')\n",
    "\n",
    "with open('./artist_id_to_index.txt', 'w') as f:\n",
    "    for item in artist_to_index.items():\n",
    "        f.write(item[0] + ',' + str(item[1]) + '\\n')"
   ]
  }
 ],
 "metadata": {
  "kernelspec": {
   "display_name": "Python 3",
   "language": "python",
   "name": "python3"
  },
  "language_info": {
   "codemirror_mode": {
    "name": "ipython",
    "version": 3
   },
   "file_extension": ".py",
   "mimetype": "text/x-python",
   "name": "python",
   "nbconvert_exporter": "python",
   "pygments_lexer": "ipython3",
   "version": "3.7.3"
  },
  "pycharm": {
   "stem_cell": {
    "cell_type": "raw",
    "metadata": {
     "collapsed": false
    },
    "source": []
   }
  }
 },
 "nbformat": 4,
 "nbformat_minor": 1
}
