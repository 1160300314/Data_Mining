{
 "cells": [
  {
   "attachments": {},
   "cell_type": "markdown",
   "metadata": {},
   "source": [
    "# Lab-1 基于模型的协同过滤算法的实现\n",
    "\n",
    "## 基本要求\n",
    "- 基于UV分解，建立协同过滤模型（矩阵分解的代码要自己编写）\n",
    "- 在user_artist_data中，预留20%的数据，作为验证集\n",
    "- 计算模型对验证集进行预测的结果的RMSE\n",
    "\n",
    "## 数据集\n",
    "数据集路径均为`./*.txt`\n",
    "- user_artist_data.txt：2420万条用户播放艺术家歌曲次数\n",
    "- artist_data.txt: 160+万个艺术家的ID和名字\n",
    "- artist_alias.txt: 拼写错误的艺术家ID（变体）到该艺术家的规范ID的映射关系（19万条记录）"
   ]
  },
  {
   "cell_type": "code",
   "execution_count": 1,
   "metadata": {
    "scrolled": false
   },
   "outputs": [],
   "source": [
    "import numpy as np\n",
    "import pandas as pd\n",
    "\n",
    "# 查看数据规模，并验证数据集路径正确\n",
    "# 由于数据中存在各种问题，如部分数据行缺少分隔符\n",
    "# 所以不能利用以下代码进行处理\n",
    "# user_artist_data = pd.read_csv('./user_artist_data.txt', sep=' ', header=None)\n",
    "# user_artist_data.columns = ['user_id', 'song_id', 'times']\n",
    "# user_artist_data = user_artist_data.astype({'user_id':str, 'song_id':str, 'times':int})\n",
    "# print(\"user_artist_data info\")\n",
    "# print(user_artist_data.info())\n",
    "# print('-' * 30)\n",
    "# print(user_artist_data.describe())\n",
    "\n",
    "# artist_data = pd.read_csv('./artist_data.txt', sep='\\t', header=None)\n",
    "# artist_data.columns = ['artist_id', 'artist_name']\n",
    "# artist_data = artist_data.astype(str)\n",
    "# print('artist_data info')\n",
    "# print(artist_data.info())\n",
    "# print('-' * 30)\n",
    "# print(artist_data.describe())\n",
    "\n",
    "# artist_alias = pd.read_csv('./artist_alias.txt', sep='\\t', header=None)\n",
    "# artist_alias.columns = ['wrong_artist_id', 'correct_artist_id']\n",
    "# artist_alias = artist_alias.astype(str)\n",
    "# print('artist_alias info')\n",
    "# print(artist_alias.info())\n",
    "# print('-' * 30)\n",
    "# print(artist_alias.describe())"
   ]
  },
  {
   "cell_type": "code",
   "execution_count": 2,
   "metadata": {},
   "outputs": [
    {
     "name": "stdout",
     "output_type": "stream",
     "text": [
      "user_artist_data.txt 中数据行数：\n",
      " 24296858\n",
      "\n",
      "user_artist_data.txt 中\" \"的个数\n",
      " 48593716\n",
      "\n",
      "user_artist_data.txt 中数据格式\n",
      "1000002 1 55\n",
      "1000002 1000006 33\n",
      "1000002 1000007 8\n",
      "1000002 1000009 144\n",
      "1000002 1000010 314\n",
      "1000002 1000013 8\n",
      "1000002 1000014 42\n",
      "1000002 1000017 69\n",
      "1000002 1000024 329\n",
      "1000002 1000025 1\n",
      "\n"
     ]
    }
   ],
   "source": [
    "import os\n",
    "print('user_artist_data.txt 中数据行数：')\n",
    "print(os.popen('cat user_artist_data.txt | wc -l').read())\n",
    "print('user_artist_data.txt 中\\\" \\\"的个数')\n",
    "print(os.popen('grep -o \\' \\' user_artist_data.txt | wc -l').read())\n",
    "print('user_artist_data.txt 中数据格式')\n",
    "print(os.popen('head user_artist_data.txt').read())"
   ]
  },
  {
   "cell_type": "markdown",
   "metadata": {},
   "source": [
    "可以看到，在`user_artist_data.txt`共有2400万条数据，并且使用` `作为分隔符。如果数据分割正确，则文件中的空格数应恰好为行数的2倍，但此处并不是严格满足（空格数较行数的2倍小20），所以数据中分割符存在问题，需要进一步处理。"
   ]
  }
 ],
 "metadata": {
  "kernelspec": {
   "display_name": "Python 3",
   "language": "python",
   "name": "python3"
  },
  "language_info": {
   "codemirror_mode": {
    "name": "ipython",
    "version": 3
   },
   "file_extension": ".py",
   "mimetype": "text/x-python",
   "name": "python",
   "nbconvert_exporter": "python",
   "pygments_lexer": "ipython3",
   "version": "3.7.3"
  }
 },
 "nbformat": 4,
 "nbformat_minor": 2
}
