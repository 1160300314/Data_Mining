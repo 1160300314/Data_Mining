{
 "cells": [
  {
   "cell_type": "markdown",
   "metadata": {},
   "source": [
    "# Lab-1 基于模型的协同过滤算法的实现\n",
    "\n",
    "## 基本要求\n",
    "- 基于UV分解，建立协同过滤模型（矩阵分解的代码要自己编写）\n",
    "- 在user_artist_data中，预留20%的数据，作为验证集\n",
    "- 计算模型对验证集进行预测的结果的RMSE\n",
    "\n",
    "## 数据集\n",
    "数据集路径均为`./*.txt`\n",
    "- `user_artist_data.txt`：2420万条用户播放艺术家歌曲次数\n",
    "- `artist_data.txt`: 160+万个艺术家的ID和名字\n",
    "- `artist_alias.txt`: 拼写错误的艺术家ID（变体）到该艺术家的规范ID的映射关系（19万条记录）"
   ]
  },
  {
   "cell_type": "code",
   "execution_count": 1,
   "metadata": {
    "scrolled": false
   },
   "outputs": [],
   "source": [
    "import numpy as np\n",
    "import pandas as pd\n",
    "\n",
    "# 由于数据中存在使用分隔符不统一的问题，所以不能直接使用pandas进行数据载入\n",
    "# 故首先进行数据格式问题的处理"
   ]
  },
  {
   "cell_type": "code",
   "execution_count": 2,
   "metadata": {},
   "outputs": [
    {
     "name": "stdout",
     "output_type": "stream",
     "text": [
      "user_artist_data.txt 中数据行数：\n",
      " 24296858\n",
      "\n",
      "user_artist_data.txt 中数据格式\n",
      "1000002 1 55\n",
      "1000002 1000006 33\n",
      "1000002 1000007 8\n",
      "1000002 1000009 144\n",
      "1000002 1000010 314\n",
      "\n",
      "user_artist_data.txt 中\" \"的个数\n",
      " 48593716\n",
      "\n"
     ]
    }
   ],
   "source": [
    "import os\n",
    "\n",
    "print('user_artist_data.txt 中数据行数：')\n",
    "print(os.popen('cat user_artist_data.txt | wc -l').read())\n",
    "print('user_artist_data.txt 中数据格式')\n",
    "print(os.popen('head -5 user_artist_data.txt').read())\n",
    "print('user_artist_data.txt 中\\\" \\\"的个数')\n",
    "print(os.popen('grep -o \\' \\' user_artist_data.txt | wc -l').read())"
   ]
  },
  {
   "cell_type": "markdown",
   "metadata": {},
   "source": [
    "可以看到，在`user_artist_data.txt`共有2400万余条数据，并且使用空格作为分隔符。如果数据分割正确，则文件中的空格数应恰好为行数的2倍，此处恰好满足。**故在`user_artist_data.txt`中数据分割正确**。"
   ]
  },
  {
   "cell_type": "code",
   "execution_count": 3,
   "metadata": {},
   "outputs": [
    {
     "name": "stdout",
     "output_type": "stream",
     "text": [
      "artist_data.txt 中数据的行数\n",
      " 1848579\n",
      "\n",
      "artist_data.txt 中数据格式\n",
      "1134999\t06Crazy Life\n",
      "6821360\tPang Nakarin\n",
      "10113088\tTerfel, Bartoli- Mozart: Don\n",
      "10151459\tThe Flaming Sidebur\n",
      "6826647\tBodenstandig 3000\n",
      "\n",
      "artist_data.txt 中'\\t'的个数\n",
      " 1848281\n",
      "\n"
     ]
    }
   ],
   "source": [
    "print('artist_data.txt 中数据的行数')\n",
    "print(os.popen('cat artist_data.txt | wc -l').read())\n",
    "print('artist_data.txt 中数据格式')\n",
    "print(os.popen('head -5 artist_data.txt').read())\n",
    "print('artist_data.txt 中\\'\\\\t\\'的个数')\n",
    "print(os.popen('grep \\'\\t\\' artist_data.txt | wc -l').read())"
   ]
  },
  {
   "cell_type": "markdown",
   "metadata": {},
   "source": [
    "可以看到，在`artist_data.txt`中共有184万余条数据，每条数据有两个数据域，分别表示为`artist_id`和`aritst_name`，并使用`\\t`作为分割符。如果数据分割正确，则文件中的`\\t`数量应恰好为行数，但此处可以发现有部分行缺少分隔符，所以不能直接进行数据的载入，需要对缺失部分进行处理。\n",
    "\n",
    "由于输入格式的问题，此处不在笔记本中记录筛选的过程（主要在于`\\t`和`\\n`在notebook中的处理过于繁琐，直接利用`shell`脚本会更直接一些）。\n",
    "> `shell`命令为`grep -Ev '^[0-9]+<Ctrl-v><tab>[^<Ctrl-v><tab>^M]$ > artist_wrong_format_data.txt'`，用于查看错误的格式的数据。"
   ]
  },
  {
   "cell_type": "code",
   "execution_count": 4,
   "metadata": {},
   "outputs": [
    {
     "name": "stdout",
     "output_type": "stream",
     "text": [
      "错误格式的数据共有      516\n",
      "\n",
      "10024027\tRio Natsuki\n",
      "Aya Hisakawa\n",
      "Aya Sakaguchi\n",
      "Miki Itou\n",
      "Youko Sawami\n",
      "Taeko Kawada\n",
      "}4\n",
      "10113424\t-0BY,兤ﾁ・Eﾎ~・,\n",
      "0sH,\u000fｮ,80ｮP,ｰ蔑\n",
      "1256670\tEinojuhani Rautavaara\n",
      "Helsinki Philharmonic Orchestra - Leif Segerstam,   Kari Jussila - Organ\n",
      "\n"
     ]
    }
   ],
   "source": [
    "print('错误格式的数据共有', os.popen('cat artist_wrong_format_data.txt | wc -l').read())\n",
    "print(os.popen('head artist_wrong_format_data.txt').read())"
   ]
  },
  {
   "cell_type": "markdown",
   "metadata": {},
   "source": [
    "根据前面的信息可以看到，错误主要有以下几种:\n",
    "1. 缺少`artist_id`信息域，导致无法用`\\t`分割数据\n",
    "2. 信息中存在`\\n`换行符，导致直接利用`pandas`导入数据，无法正常划分\n",
    "3. 信息中存在一条内有多个`\\t`的情况"
   ]
  },
  {
   "cell_type": "code",
   "execution_count": 5,
   "metadata": {},
   "outputs": [
    {
     "name": "stdout",
     "output_type": "stream",
     "text": [
      "artist_correct_format_data.txt 中数据行数：\n",
      " 1848063\n",
      "\n",
      "artist_correct_format_data.txt 中数据格式\n",
      "1134999\t06Crazy Life\n",
      "6821360\tPang Nakarin\n",
      "10113088\tTerfel, Bartoli- Mozart: Don\n",
      "10151459\tThe Flaming Sidebur\n",
      "6826647\tBodenstandig 3000\n",
      "\n"
     ]
    }
   ],
   "source": [
    "# print(os.popen('grep -Ev \\'^[0-9]+\\t[^\\t]+$\\' artist_data.txt').read())\n",
    "# print(os.popen('grep -Ev \\'\\^[0-9]+\\t[\\^\\t\\n]+$\\' artist_data.txt > artist_wrong_format_data.txt').read())\n",
    "# 去除掉错误的信息后，可以正常使用的`artist_data`数据存放在`artist_correct_format_data.txt`\n",
    "print('artist_correct_format_data.txt 中数据行数：')\n",
    "print(os.popen('cat artist_correct_format_data.txt | wc -l').read())\n",
    "print('artist_correct_format_data.txt 中数据格式')\n",
    "print(os.popen('head -5 artist_correct_format_data.txt').read())"
   ]
  },
  {
   "cell_type": "code",
   "execution_count": 6,
   "metadata": {},
   "outputs": [
    {
     "name": "stdout",
     "output_type": "stream",
     "text": [
      "artist_alias.txt 中数据的行数\n",
      "  193027\n",
      "\n",
      "artist_data.txt 中数据格式\n",
      "1092764\t1000311\n",
      "1095122\t1000557\n",
      "6708070\t1007267\n",
      "10088054\t1042317\n",
      "1195917\t1042317\n",
      "\n",
      "artist_alias.txt 中'\\t'的个数\n",
      "  193027\n",
      "\n"
     ]
    }
   ],
   "source": [
    "print('artist_alias.txt 中数据的行数')\n",
    "print(os.popen('cat artist_alias.txt | wc -l').read())\n",
    "print('artist_data.txt 中数据格式')\n",
    "print(os.popen('head -5 artist_alias.txt').read())\n",
    "print('artist_alias.txt 中\\'\\\\t\\'的个数')\n",
    "print(os.popen('grep \\'\\t\\' artist_alias.txt | wc -l').read())"
   ]
  },
  {
   "cell_type": "markdown",
   "metadata": {},
   "source": [
    "可以看到，对于`artist_alias.txt`数据而言，其使用`\\t`进行分割，且共有19万余条数据。恰好数据中`\\t`的数量与数据行数相同，可以认为数据分割没有错误。"
   ]
  },
  {
   "cell_type": "code",
   "execution_count": 9,
   "metadata": {},
   "outputs": [
    {
     "name": "stdout",
     "output_type": "stream",
     "text": [
      "user_artist_data info\n",
      "<class 'pandas.core.frame.DataFrame'>\n",
      "RangeIndex: 24296858 entries, 0 to 24296857\n",
      "Data columns (total 3 columns):\n",
      "user_id    object\n",
      "song_id    object\n",
      "times      int64\n",
      "dtypes: int64(1), object(2)\n",
      "memory usage: 556.1+ MB\n",
      "None\n",
      "              times\n",
      "count  2.429686e+07\n",
      "mean   1.529576e+01\n",
      "std    1.539153e+02\n",
      "min    1.000000e+00\n",
      "25%    1.000000e+00\n",
      "50%    3.000000e+00\n",
      "75%    9.000000e+00\n",
      "max    4.397710e+05\n",
      "------------------------------\n",
      "artist_data info\n",
      "<class 'pandas.core.frame.DataFrame'>\n",
      "RangeIndex: 1829523 entries, 0 to 1829522\n",
      "Data columns (total 2 columns):\n",
      "artist_id      object\n",
      "artist_name    object\n",
      "dtypes: object(2)\n",
      "memory usage: 27.9+ MB\n",
      "None\n",
      "       artist_id        artist_name\n",
      "count    1829523            1829523\n",
      "unique   1829523            1829228\n",
      "top      6753662  Weird Al Yankovic\n",
      "freq           1                  4\n",
      "------------------------------\n",
      "artist_alias info\n",
      "<class 'pandas.core.frame.DataFrame'>\n",
      "RangeIndex: 193027 entries, 0 to 193026\n",
      "Data columns (total 2 columns):\n",
      "wrong_artist_id      193027 non-null object\n",
      "correct_artist_id    193027 non-null object\n",
      "dtypes: object(2)\n",
      "memory usage: 2.9+ MB\n",
      "None\n",
      "       wrong_artist_id correct_artist_id\n",
      "count           193027            193027\n",
      "unique          190893             22478\n",
      "top                nan           1000024\n",
      "freq              2135              1204\n"
     ]
    }
   ],
   "source": [
    "# 查看数据规模，并验证数据集路径正确\n",
    "user_artist_data = pd.read_csv('./user_artist_data.txt', sep=' ', header=None)\n",
    "user_artist_data.columns = ['user_id', 'song_id', 'times']\n",
    "user_artist_data = user_artist_data.astype({'user_id':str, 'song_id':str, 'times':int})\n",
    "print(\"user_artist_data info\")\n",
    "print(user_artist_data.info())\n",
    "print(user_artist_data.describe())\n",
    "print('-' * 30)\n",
    "\n",
    "artist_data = pd.read_csv('./artist_correct_format_data.txt', sep='\\t', header=None)\n",
    "artist_data.columns = ['artist_id', 'artist_name']\n",
    "artist_data = artist_data.astype({'artist_id':str, 'artist_name':str})\n",
    "print('artist_data info')\n",
    "print(artist_data.info())\n",
    "print(artist_data.describe())\n",
    "print('-' * 30)\n",
    "\n",
    "artist_alias = pd.read_csv('./artist_alias.txt', sep='\\t', header=None)\n",
    "artist_alias.columns = ['wrong_artist_id', 'correct_artist_id']\n",
    "artist_alias = artist_alias.astype({'wrong_artist_id':str, 'correct_artist_id':str})\n",
    "print('artist_alias info')\n",
    "print(artist_alias.info())\n",
    "print(artist_alias.describe())"
   ]
  },
  {
   "cell_type": "code",
   "execution_count": null,
   "metadata": {},
   "outputs": [],
   "source": [
    "user_artist_data = pd.read_csv('./user_artist_data.txt', sep=' ', header=None)\n",
    "user_artist_data.columns = ['user_id', 'song_id', 'times']\n",
    "user_artist_data = user_artist_data.astype({'user_id':str, 'song_id':str, 'times':int})"
   ]
  },
  {
   "cell_type": "code",
   "execution_count": 10,
   "metadata": {},
   "outputs": [
    {
     "name": "stdout",
     "output_type": "stream",
     "text": [
      "用户数量 148111\n",
      "艺术家数量 1631028\n"
     ]
    }
   ],
   "source": [
    "user = set(user_artist_data['user_id'])\n",
    "print('用户数量',len(user))\n",
    "\n",
    "artist = set(user_artist_data['song_id'])\n",
    "print('艺术家数量', len(artist))\n",
    "\n",
    "user_artist_data['id'] = list(zip(user_artist_data['user_id'], user_artist_data['song_id']))\n",
    "user_artist_data = user_artist_data.drop(['user_id', 'song_id'], axis=1)\n",
    "user_artist_data = user_artist_data.set_index('id')"
   ]
  },
  {
   "cell_type": "markdown",
   "metadata": {},
   "source": [
    "根据上面单元格的信息，*用户数量14万，艺术家数量为160万*，我们简单估计一下：\n",
    "- 如果使用稠密表示，所需内存为`1.4e5 * 1.6e6 * 8/ (1e9) ≈ 2000GB`\n",
    "显然以上数据不能再内存中稠密计算，因此需要进行稀疏表示。"
   ]
  },
  {
   "cell_type": "code",
   "execution_count": 11,
   "metadata": {},
   "outputs": [],
   "source": [
    "# 由于user_id和artist_id均不是连续表示的，所以为了方便矩阵操作\n",
    "# 增加id到index之间的映射，用于数据表示的离散化\n",
    "user_to_index = {x:y for x,y in enumerate(user)}\n",
    "artist_to_index = {x:y for x,y in enumerate(artist)}"
   ]
  },
  {
   "cell_type": "code",
   "execution_count": 12,
   "metadata": {},
   "outputs": [
    {
     "name": "stdout",
     "output_type": "stream",
     "text": [
      "(19437486, 1)\n",
      "(4859372, 1)\n"
     ]
    }
   ],
   "source": [
    "# 使用20%作为验证集\n",
    "from sklearn.model_selection import train_test_split\n",
    "\n",
    "train_user_artist_data, test_user_artist_data = train_test_split(user_artist_data, test_size=0.2, random_state=3)\n",
    "print(train_user_artist_data.shape)\n",
    "print(test_user_artist_data.shape)"
   ]
  },
  {
   "cell_type": "code",
   "execution_count": null,
   "metadata": {},
   "outputs": [],
   "source": [
    "# M = train_user_artist_data.set_index(['user_id', 'song_id']).T.to_dict('list')\n",
    "# print(M.get((user_to_index.get(1), artist_to_index.get(1)), None))\n",
    "# print(train_user_artist_data.loc())\n",
    "# empty.set_index(['from', 'to']).T.to_dict('list')\n"
   ]
  },
  {
   "cell_type": "code",
   "execution_count": null,
   "metadata": {},
   "outputs": [],
   "source": [
    "# 根据对user_artist_data的统计数据\n",
    "# 平均听歌次数为15.36次，数据标准差为153.92\n",
    "# 所以将效用矩阵元素表示为(x - mean) / std，x为听歌次数\n",
    "# M = np.full((len(user_to_index), len(artist_to_index)), np.nan)\n",
    "# for data in train_user_artist_data:\n",
    "#     M[user_to_index[data[0]]][artist_to_index[data[1]]] = data[2]\n",
    "# print(M[:10,:10])"
   ]
  },
  {
   "cell_type": "code",
   "execution_count": null,
   "metadata": {},
   "outputs": [],
   "source": [
    "test_m = [[5, 2, 4, 4, 3], [3, 1, 2, 4, 1], [2, -1, 3, 1, 4], [2, 5, 4, 3, 5], [4, 4, 5, 4, -1]]\n",
    "test_m = np.array(test_m)\n",
    "n, m = test_m.shape\n",
    "empty = pd.DataFrame(columns={'from', 'to', 'value'})\n",
    "for i in range(n):\n",
    "    for j in range(m):\n",
    "        if(test_m[i][j] > 0):\n",
    "            new = pd.DataFrame({\"from\":i,\"to\":j,\"value\":test_m[i][j]}, index=['0'])\n",
    "            empty = empty.append(new, ignore_index=True)\n",
    "print(empty)"
   ]
  },
  {
   "cell_type": "code",
   "execution_count": 18,
   "metadata": {},
   "outputs": [],
   "source": [
    "def rmse(M, U, V):\n",
    "    # M is pd.DataFrame\n",
    "    n, d = U.shape\n",
    "    d_1, m = V.shape\n",
    "    assert d == d_1\n",
    "    res = 0\n",
    "    for i in range(n):\n",
    "        for j in range(m):\n",
    "#             t = M.get((i, j), None)\n",
    "            try:\n",
    "                t = M.loc[[(user_to_index.get(i, None), artist_to_index.get(j, None))]]['times'][0]\n",
    "            except KeyError:\n",
    "                t = None\n",
    "            if t is None:\n",
    "                continue\n",
    "            p = 0\n",
    "            for k in range(d):\n",
    "                p = p + U[i][k] * V[k][j]\n",
    "            res = res + (p - t) * (p - t)\n",
    "    return res\n",
    "\n",
    "def UV_decomposition(M, n, m, d=2, epsilon=1e-3):\n",
    "    # M is pd.DataFrame\n",
    "    U = np.ones((n, d))\n",
    "    print('here U finished')\n",
    "    V = np.ones((d, m))\n",
    "    print('here V finished')\n",
    "    time = 0\n",
    "    rmse_last = rmse(M, U, V)\n",
    "    while True:\n",
    "        u_terms = True\n",
    "        ui = uj = vi = vj = 0\n",
    "        u_finished = v_finished = False\n",
    "        terminated = rmse_last\n",
    "        while True:\n",
    "            if time < 3:\n",
    "                print('here')\n",
    "            print(time, rmse_last)\n",
    "            time += 1\n",
    "            if u_finished and v_finished:\n",
    "                break\n",
    "            if v_finished or u_terms:\n",
    "                u_terms = False\n",
    "                numerator = 0\n",
    "                denominator = 0\n",
    "                for j in range(m):\n",
    "                    p = 0\n",
    "                    for k in range(d):\n",
    "                        if k != uj:\n",
    "                            p = p + U[ui][k] * V[k][j]\n",
    "#                     m_rj = M.get((ui, j), None)\n",
    "                    try:\n",
    "                        m_rj = M.loc[[(user_to_index.get(ui, None), artist_to_index.get(j, None))]]['times'][0]\n",
    "                    except KeyError:\n",
    "                        m_rj = None\n",
    "                    if m_rj is None:\n",
    "                        continue\n",
    "                    numerator = numerator + V[uj][j] * (m_rj - p)\n",
    "                    denominator = denominator + V[uj][j] * V[uj][j]\n",
    "                last_u = U[ui][uj]\n",
    "                U[ui][uj] = numerator * 1.0 / denominator\n",
    "                rmse_this = rmse(M, U, V)\n",
    "                if rmse_this < rmse_last:\n",
    "                    rmse_last = rmse_this\n",
    "                else:\n",
    "                    U[ui][uj] = last_u\n",
    "                #             print(U)\n",
    "                uj += 1\n",
    "                if uj >= d:\n",
    "                    ui += 1\n",
    "                    uj = 0\n",
    "                    if ui >= n:\n",
    "                        u_finished = True\n",
    "            elif u_finished or not u_terms:\n",
    "                u_terms = True\n",
    "                numerator = 0\n",
    "                denominator = 0\n",
    "                for i in range(n):\n",
    "                    p = 0\n",
    "                    for k in range(d):\n",
    "                        if k != vi:\n",
    "                            p = p + U[i][k] * V[k][vj]\n",
    "#                     m_is = M.get((i, vj), None)\n",
    "                    try:\n",
    "                        m_is = M.loc[[(user_to_index.get(i), artist_to_index.get(vj))]]['times'][0]\n",
    "                    except KeyError:\n",
    "                        m_is = None\n",
    "                    if m_is is None:\n",
    "                        continue\n",
    "                    numerator = numerator + U[i][vi] * (m_is - p)\n",
    "                    denominator = denominator + U[i][vi] * U[i][vi]\n",
    "                last_v = V[vi][vj]\n",
    "                V[vi][vj] = numerator * 1.0 / denominator\n",
    "                #             print(V)\n",
    "                rmse_this = rmse(M, U, V)\n",
    "                if rmse_this < rmse_last:\n",
    "                    rmse_last = rmse_this\n",
    "                else:\n",
    "                    V[vi][vj] = last_v\n",
    "                vj += 1\n",
    "                if vj >= m:\n",
    "                    vi += 1\n",
    "                    vj = 0\n",
    "                    if vi >= d:\n",
    "                        v_finished = True\n",
    "        if abs(terminated - rmse_last) < epsilon:\n",
    "            break\n",
    "        else:\n",
    "            terminated = rmse_last\n",
    "    return U, V"
   ]
  },
  {
   "cell_type": "code",
   "execution_count": 19,
   "metadata": {},
   "outputs": [
    {
     "name": "stdout",
     "output_type": "stream",
     "text": [
      "here U finished\n",
      "here V finished\n"
     ]
    },
    {
     "ename": "KeyboardInterrupt",
     "evalue": "",
     "output_type": "error",
     "traceback": [
      "\u001b[0;31m---------------------------------------------------------------------------\u001b[0m",
      "\u001b[0;31mKeyboardInterrupt\u001b[0m                         Traceback (most recent call last)",
      "\u001b[0;32m<ipython-input-19-43da54007df5>\u001b[0m in \u001b[0;36m<module>\u001b[0;34m\u001b[0m\n\u001b[1;32m      6\u001b[0m \u001b[0;31m# print(d.get((2, 1), None))\u001b[0m\u001b[0;34m\u001b[0m\u001b[0;34m\u001b[0m\u001b[0;34m\u001b[0m\u001b[0m\n\u001b[1;32m      7\u001b[0m \u001b[0;34m\u001b[0m\u001b[0m\n\u001b[0;32m----> 8\u001b[0;31m \u001b[0mU\u001b[0m\u001b[0;34m,\u001b[0m \u001b[0mV\u001b[0m \u001b[0;34m=\u001b[0m \u001b[0mUV_decomposition\u001b[0m\u001b[0;34m(\u001b[0m\u001b[0mtrain_user_artist_data\u001b[0m\u001b[0;34m,\u001b[0m \u001b[0mn\u001b[0m\u001b[0;34m=\u001b[0m\u001b[0mlen\u001b[0m\u001b[0;34m(\u001b[0m\u001b[0muser\u001b[0m\u001b[0;34m)\u001b[0m\u001b[0;34m,\u001b[0m \u001b[0mm\u001b[0m\u001b[0;34m=\u001b[0m\u001b[0mlen\u001b[0m\u001b[0;34m(\u001b[0m\u001b[0martist\u001b[0m\u001b[0;34m)\u001b[0m\u001b[0;34m)\u001b[0m\u001b[0;34m\u001b[0m\u001b[0;34m\u001b[0m\u001b[0m\n\u001b[0m",
      "\u001b[0;32m<ipython-input-18-bedd7ab3d609>\u001b[0m in \u001b[0;36mUV_decomposition\u001b[0;34m(M, n, m, d, epsilon)\u001b[0m\n\u001b[1;32m     27\u001b[0m     \u001b[0mprint\u001b[0m\u001b[0;34m(\u001b[0m\u001b[0;34m'here V finished'\u001b[0m\u001b[0;34m)\u001b[0m\u001b[0;34m\u001b[0m\u001b[0;34m\u001b[0m\u001b[0m\n\u001b[1;32m     28\u001b[0m     \u001b[0mtime\u001b[0m \u001b[0;34m=\u001b[0m \u001b[0;36m0\u001b[0m\u001b[0;34m\u001b[0m\u001b[0;34m\u001b[0m\u001b[0m\n\u001b[0;32m---> 29\u001b[0;31m     \u001b[0mrmse_last\u001b[0m \u001b[0;34m=\u001b[0m \u001b[0mrmse\u001b[0m\u001b[0;34m(\u001b[0m\u001b[0mM\u001b[0m\u001b[0;34m,\u001b[0m \u001b[0mU\u001b[0m\u001b[0;34m,\u001b[0m \u001b[0mV\u001b[0m\u001b[0;34m)\u001b[0m\u001b[0;34m\u001b[0m\u001b[0;34m\u001b[0m\u001b[0m\n\u001b[0m\u001b[1;32m     30\u001b[0m     \u001b[0;32mwhile\u001b[0m \u001b[0;32mTrue\u001b[0m\u001b[0;34m:\u001b[0m\u001b[0;34m\u001b[0m\u001b[0;34m\u001b[0m\u001b[0m\n\u001b[1;32m     31\u001b[0m         \u001b[0mu_terms\u001b[0m \u001b[0;34m=\u001b[0m \u001b[0;32mTrue\u001b[0m\u001b[0;34m\u001b[0m\u001b[0;34m\u001b[0m\u001b[0m\n",
      "\u001b[0;32m<ipython-input-18-bedd7ab3d609>\u001b[0m in \u001b[0;36mrmse\u001b[0;34m(M, U, V)\u001b[0m\n\u001b[1;32m      9\u001b[0m \u001b[0;31m#             t = M.get((i, j), None)\u001b[0m\u001b[0;34m\u001b[0m\u001b[0;34m\u001b[0m\u001b[0;34m\u001b[0m\u001b[0m\n\u001b[1;32m     10\u001b[0m             \u001b[0;32mtry\u001b[0m\u001b[0;34m:\u001b[0m\u001b[0;34m\u001b[0m\u001b[0;34m\u001b[0m\u001b[0m\n\u001b[0;32m---> 11\u001b[0;31m                 \u001b[0mt\u001b[0m \u001b[0;34m=\u001b[0m \u001b[0mM\u001b[0m\u001b[0;34m.\u001b[0m\u001b[0mloc\u001b[0m\u001b[0;34m[\u001b[0m\u001b[0;34m[\u001b[0m\u001b[0;34m(\u001b[0m\u001b[0muser_to_index\u001b[0m\u001b[0;34m.\u001b[0m\u001b[0mget\u001b[0m\u001b[0;34m(\u001b[0m\u001b[0mi\u001b[0m\u001b[0;34m,\u001b[0m \u001b[0;32mNone\u001b[0m\u001b[0;34m)\u001b[0m\u001b[0;34m,\u001b[0m \u001b[0martist_to_index\u001b[0m\u001b[0;34m.\u001b[0m\u001b[0mget\u001b[0m\u001b[0;34m(\u001b[0m\u001b[0mj\u001b[0m\u001b[0;34m,\u001b[0m \u001b[0;32mNone\u001b[0m\u001b[0;34m)\u001b[0m\u001b[0;34m)\u001b[0m\u001b[0;34m]\u001b[0m\u001b[0;34m]\u001b[0m\u001b[0;34m[\u001b[0m\u001b[0;34m'times'\u001b[0m\u001b[0;34m]\u001b[0m\u001b[0;34m[\u001b[0m\u001b[0;36m0\u001b[0m\u001b[0;34m]\u001b[0m\u001b[0;34m\u001b[0m\u001b[0;34m\u001b[0m\u001b[0m\n\u001b[0m\u001b[1;32m     12\u001b[0m             \u001b[0;32mexcept\u001b[0m \u001b[0mKeyError\u001b[0m\u001b[0;34m:\u001b[0m\u001b[0;34m\u001b[0m\u001b[0;34m\u001b[0m\u001b[0m\n\u001b[1;32m     13\u001b[0m                 \u001b[0mt\u001b[0m \u001b[0;34m=\u001b[0m \u001b[0;32mNone\u001b[0m\u001b[0;34m\u001b[0m\u001b[0;34m\u001b[0m\u001b[0m\n",
      "\u001b[0;32m~/anaconda3/lib/python3.7/site-packages/pandas/core/indexing.py\u001b[0m in \u001b[0;36m__getitem__\u001b[0;34m(self, key)\u001b[0m\n\u001b[1;32m   1498\u001b[0m \u001b[0;34m\u001b[0m\u001b[0m\n\u001b[1;32m   1499\u001b[0m             \u001b[0mmaybe_callable\u001b[0m \u001b[0;34m=\u001b[0m \u001b[0mcom\u001b[0m\u001b[0;34m.\u001b[0m\u001b[0mapply_if_callable\u001b[0m\u001b[0;34m(\u001b[0m\u001b[0mkey\u001b[0m\u001b[0;34m,\u001b[0m \u001b[0mself\u001b[0m\u001b[0;34m.\u001b[0m\u001b[0mobj\u001b[0m\u001b[0;34m)\u001b[0m\u001b[0;34m\u001b[0m\u001b[0;34m\u001b[0m\u001b[0m\n\u001b[0;32m-> 1500\u001b[0;31m             \u001b[0;32mreturn\u001b[0m \u001b[0mself\u001b[0m\u001b[0;34m.\u001b[0m\u001b[0m_getitem_axis\u001b[0m\u001b[0;34m(\u001b[0m\u001b[0mmaybe_callable\u001b[0m\u001b[0;34m,\u001b[0m \u001b[0maxis\u001b[0m\u001b[0;34m=\u001b[0m\u001b[0maxis\u001b[0m\u001b[0;34m)\u001b[0m\u001b[0;34m\u001b[0m\u001b[0;34m\u001b[0m\u001b[0m\n\u001b[0m\u001b[1;32m   1501\u001b[0m \u001b[0;34m\u001b[0m\u001b[0m\n\u001b[1;32m   1502\u001b[0m     \u001b[0;32mdef\u001b[0m \u001b[0m_is_scalar_access\u001b[0m\u001b[0;34m(\u001b[0m\u001b[0mself\u001b[0m\u001b[0;34m,\u001b[0m \u001b[0mkey\u001b[0m\u001b[0;34m)\u001b[0m\u001b[0;34m:\u001b[0m\u001b[0;34m\u001b[0m\u001b[0;34m\u001b[0m\u001b[0m\n",
      "\u001b[0;32m~/anaconda3/lib/python3.7/site-packages/pandas/core/indexing.py\u001b[0m in \u001b[0;36m_getitem_axis\u001b[0;34m(self, key, axis)\u001b[0m\n\u001b[1;32m   1900\u001b[0m                     \u001b[0;32mraise\u001b[0m \u001b[0mValueError\u001b[0m\u001b[0;34m(\u001b[0m\u001b[0;34m'Cannot index with multidimensional key'\u001b[0m\u001b[0;34m)\u001b[0m\u001b[0;34m\u001b[0m\u001b[0;34m\u001b[0m\u001b[0m\n\u001b[1;32m   1901\u001b[0m \u001b[0;34m\u001b[0m\u001b[0m\n\u001b[0;32m-> 1902\u001b[0;31m                 \u001b[0;32mreturn\u001b[0m \u001b[0mself\u001b[0m\u001b[0;34m.\u001b[0m\u001b[0m_getitem_iterable\u001b[0m\u001b[0;34m(\u001b[0m\u001b[0mkey\u001b[0m\u001b[0;34m,\u001b[0m \u001b[0maxis\u001b[0m\u001b[0;34m=\u001b[0m\u001b[0maxis\u001b[0m\u001b[0;34m)\u001b[0m\u001b[0;34m\u001b[0m\u001b[0;34m\u001b[0m\u001b[0m\n\u001b[0m\u001b[1;32m   1903\u001b[0m \u001b[0;34m\u001b[0m\u001b[0m\n\u001b[1;32m   1904\u001b[0m             \u001b[0;31m# nested tuple slicing\u001b[0m\u001b[0;34m\u001b[0m\u001b[0;34m\u001b[0m\u001b[0;34m\u001b[0m\u001b[0m\n",
      "\u001b[0;32m~/anaconda3/lib/python3.7/site-packages/pandas/core/indexing.py\u001b[0m in \u001b[0;36m_getitem_iterable\u001b[0;34m(self, key, axis)\u001b[0m\n\u001b[1;32m   1203\u001b[0m             \u001b[0;31m# A collection of keys\u001b[0m\u001b[0;34m\u001b[0m\u001b[0;34m\u001b[0m\u001b[0;34m\u001b[0m\u001b[0m\n\u001b[1;32m   1204\u001b[0m             keyarr, indexer = self._get_listlike_indexer(key, axis,\n\u001b[0;32m-> 1205\u001b[0;31m                                                          raise_missing=False)\n\u001b[0m\u001b[1;32m   1206\u001b[0m             return self.obj._reindex_with_indexers({axis: [keyarr, indexer]},\n\u001b[1;32m   1207\u001b[0m                                                    copy=True, allow_dups=True)\n",
      "\u001b[0;32m~/anaconda3/lib/python3.7/site-packages/pandas/core/indexing.py\u001b[0m in \u001b[0;36m_get_listlike_indexer\u001b[0;34m(self, key, axis, raise_missing)\u001b[0m\n\u001b[1;32m   1159\u001b[0m         self._validate_read_indexer(keyarr, indexer,\n\u001b[1;32m   1160\u001b[0m                                     \u001b[0mo\u001b[0m\u001b[0;34m.\u001b[0m\u001b[0m_get_axis_number\u001b[0m\u001b[0;34m(\u001b[0m\u001b[0maxis\u001b[0m\u001b[0;34m)\u001b[0m\u001b[0;34m,\u001b[0m\u001b[0;34m\u001b[0m\u001b[0;34m\u001b[0m\u001b[0m\n\u001b[0;32m-> 1161\u001b[0;31m                                     raise_missing=raise_missing)\n\u001b[0m\u001b[1;32m   1162\u001b[0m         \u001b[0;32mreturn\u001b[0m \u001b[0mkeyarr\u001b[0m\u001b[0;34m,\u001b[0m \u001b[0mindexer\u001b[0m\u001b[0;34m\u001b[0m\u001b[0;34m\u001b[0m\u001b[0m\n\u001b[1;32m   1163\u001b[0m \u001b[0;34m\u001b[0m\u001b[0m\n",
      "\u001b[0;32m~/anaconda3/lib/python3.7/site-packages/pandas/core/indexing.py\u001b[0m in \u001b[0;36m_validate_read_indexer\u001b[0;34m(self, key, indexer, axis, raise_missing)\u001b[0m\n\u001b[1;32m   1244\u001b[0m                 raise KeyError(\n\u001b[1;32m   1245\u001b[0m                     u\"None of [{key}] are in the [{axis}]\".format(\n\u001b[0;32m-> 1246\u001b[0;31m                         key=key, axis=self.obj._get_axis_name(axis)))\n\u001b[0m\u001b[1;32m   1247\u001b[0m \u001b[0;34m\u001b[0m\u001b[0m\n\u001b[1;32m   1248\u001b[0m             \u001b[0;31m# We (temporarily) allow for some missing keys with .loc, except in\u001b[0m\u001b[0;34m\u001b[0m\u001b[0;34m\u001b[0m\u001b[0;34m\u001b[0m\u001b[0m\n",
      "\u001b[0;32m~/anaconda3/lib/python3.7/site-packages/pandas/core/base.py\u001b[0m in \u001b[0;36m__str__\u001b[0;34m(self)\u001b[0m\n\u001b[1;32m     55\u001b[0m \u001b[0;34m\u001b[0m\u001b[0m\n\u001b[1;32m     56\u001b[0m         \u001b[0;32mif\u001b[0m \u001b[0mcompat\u001b[0m\u001b[0;34m.\u001b[0m\u001b[0mPY3\u001b[0m\u001b[0;34m:\u001b[0m\u001b[0;34m\u001b[0m\u001b[0;34m\u001b[0m\u001b[0m\n\u001b[0;32m---> 57\u001b[0;31m             \u001b[0;32mreturn\u001b[0m \u001b[0mself\u001b[0m\u001b[0;34m.\u001b[0m\u001b[0m__unicode__\u001b[0m\u001b[0;34m(\u001b[0m\u001b[0;34m)\u001b[0m\u001b[0;34m\u001b[0m\u001b[0;34m\u001b[0m\u001b[0m\n\u001b[0m\u001b[1;32m     58\u001b[0m         \u001b[0;32mreturn\u001b[0m \u001b[0mself\u001b[0m\u001b[0;34m.\u001b[0m\u001b[0m__bytes__\u001b[0m\u001b[0;34m(\u001b[0m\u001b[0;34m)\u001b[0m\u001b[0;34m\u001b[0m\u001b[0;34m\u001b[0m\u001b[0m\n\u001b[1;32m     59\u001b[0m \u001b[0;34m\u001b[0m\u001b[0m\n",
      "\u001b[0;32m~/anaconda3/lib/python3.7/site-packages/pandas/core/indexes/base.py\u001b[0m in \u001b[0;36m__unicode__\u001b[0;34m(self)\u001b[0m\n\u001b[1;32m    926\u001b[0m         \"\"\"\n\u001b[1;32m    927\u001b[0m         \u001b[0mklass\u001b[0m \u001b[0;34m=\u001b[0m \u001b[0mself\u001b[0m\u001b[0;34m.\u001b[0m\u001b[0m__class__\u001b[0m\u001b[0;34m.\u001b[0m\u001b[0m__name__\u001b[0m\u001b[0;34m\u001b[0m\u001b[0;34m\u001b[0m\u001b[0m\n\u001b[0;32m--> 928\u001b[0;31m         \u001b[0mdata\u001b[0m \u001b[0;34m=\u001b[0m \u001b[0mself\u001b[0m\u001b[0;34m.\u001b[0m\u001b[0m_format_data\u001b[0m\u001b[0;34m(\u001b[0m\u001b[0;34m)\u001b[0m\u001b[0;34m\u001b[0m\u001b[0;34m\u001b[0m\u001b[0m\n\u001b[0m\u001b[1;32m    929\u001b[0m         \u001b[0mattrs\u001b[0m \u001b[0;34m=\u001b[0m \u001b[0mself\u001b[0m\u001b[0;34m.\u001b[0m\u001b[0m_format_attrs\u001b[0m\u001b[0;34m(\u001b[0m\u001b[0;34m)\u001b[0m\u001b[0;34m\u001b[0m\u001b[0;34m\u001b[0m\u001b[0m\n\u001b[1;32m    930\u001b[0m         \u001b[0mspace\u001b[0m \u001b[0;34m=\u001b[0m \u001b[0mself\u001b[0m\u001b[0;34m.\u001b[0m\u001b[0m_format_space\u001b[0m\u001b[0;34m(\u001b[0m\u001b[0;34m)\u001b[0m\u001b[0;34m\u001b[0m\u001b[0;34m\u001b[0m\u001b[0m\n",
      "\u001b[0;32m~/anaconda3/lib/python3.7/site-packages/pandas/core/indexes/base.py\u001b[0m in \u001b[0;36m_format_data\u001b[0;34m(self, name)\u001b[0m\n\u001b[1;32m    969\u001b[0m \u001b[0;34m\u001b[0m\u001b[0m\n\u001b[1;32m    970\u001b[0m         return format_object_summary(self, self._formatter_func,\n\u001b[0;32m--> 971\u001b[0;31m                                      is_justify=is_justify, name=name)\n\u001b[0m\u001b[1;32m    972\u001b[0m \u001b[0;34m\u001b[0m\u001b[0m\n\u001b[1;32m    973\u001b[0m     \u001b[0;32mdef\u001b[0m \u001b[0m_format_attrs\u001b[0m\u001b[0;34m(\u001b[0m\u001b[0mself\u001b[0m\u001b[0;34m)\u001b[0m\u001b[0;34m:\u001b[0m\u001b[0;34m\u001b[0m\u001b[0;34m\u001b[0m\u001b[0m\n",
      "\u001b[0;32m~/anaconda3/lib/python3.7/site-packages/pandas/io/formats/printing.py\u001b[0m in \u001b[0;36mformat_object_summary\u001b[0;34m(obj, formatter, is_justify, name, indent_for_name)\u001b[0m\n\u001b[1;32m    343\u001b[0m         \u001b[0msummary\u001b[0m \u001b[0;34m=\u001b[0m \u001b[0;34mu'[]{}'\u001b[0m\u001b[0;34m.\u001b[0m\u001b[0mformat\u001b[0m\u001b[0;34m(\u001b[0m\u001b[0mclose\u001b[0m\u001b[0;34m)\u001b[0m\u001b[0;34m\u001b[0m\u001b[0;34m\u001b[0m\u001b[0m\n\u001b[1;32m    344\u001b[0m     \u001b[0;32melif\u001b[0m \u001b[0mn\u001b[0m \u001b[0;34m==\u001b[0m \u001b[0;36m1\u001b[0m\u001b[0;34m:\u001b[0m\u001b[0;34m\u001b[0m\u001b[0;34m\u001b[0m\u001b[0m\n\u001b[0;32m--> 345\u001b[0;31m         \u001b[0mfirst\u001b[0m \u001b[0;34m=\u001b[0m \u001b[0mformatter\u001b[0m\u001b[0;34m(\u001b[0m\u001b[0mobj\u001b[0m\u001b[0;34m[\u001b[0m\u001b[0;36m0\u001b[0m\u001b[0;34m]\u001b[0m\u001b[0;34m)\u001b[0m\u001b[0;34m\u001b[0m\u001b[0;34m\u001b[0m\u001b[0m\n\u001b[0m\u001b[1;32m    346\u001b[0m         \u001b[0msummary\u001b[0m \u001b[0;34m=\u001b[0m \u001b[0;34mu'[{}]{}'\u001b[0m\u001b[0;34m.\u001b[0m\u001b[0mformat\u001b[0m\u001b[0;34m(\u001b[0m\u001b[0mfirst\u001b[0m\u001b[0;34m,\u001b[0m \u001b[0mclose\u001b[0m\u001b[0;34m)\u001b[0m\u001b[0;34m\u001b[0m\u001b[0;34m\u001b[0m\u001b[0m\n\u001b[1;32m    347\u001b[0m     \u001b[0;32melif\u001b[0m \u001b[0mn\u001b[0m \u001b[0;34m==\u001b[0m \u001b[0;36m2\u001b[0m\u001b[0;34m:\u001b[0m\u001b[0;34m\u001b[0m\u001b[0;34m\u001b[0m\u001b[0m\n",
      "\u001b[0;32m~/anaconda3/lib/python3.7/site-packages/pandas/io/formats/printing.py\u001b[0m in \u001b[0;36m<lambda>\u001b[0;34m(x, max_seq_items)\u001b[0m\n\u001b[1;32m    269\u001b[0m \u001b[0mdefault_pprint\u001b[0m \u001b[0;34m=\u001b[0m \u001b[0;32mlambda\u001b[0m \u001b[0mx\u001b[0m\u001b[0;34m,\u001b[0m \u001b[0mmax_seq_items\u001b[0m\u001b[0;34m=\u001b[0m\u001b[0;32mNone\u001b[0m\u001b[0;34m:\u001b[0m\u001b[0;31m \u001b[0m\u001b[0;31m\\\u001b[0m\u001b[0;34m\u001b[0m\u001b[0;34m\u001b[0m\u001b[0m\n\u001b[1;32m    270\u001b[0m     pprint_thing(x, escape_chars=('\\t', '\\r', '\\n'), quote_strings=True,\n\u001b[0;32m--> 271\u001b[0;31m                  max_seq_items=max_seq_items)\n\u001b[0m\u001b[1;32m    272\u001b[0m \u001b[0;34m\u001b[0m\u001b[0m\n\u001b[1;32m    273\u001b[0m \u001b[0;34m\u001b[0m\u001b[0m\n",
      "\u001b[0;32m~/anaconda3/lib/python3.7/site-packages/pandas/io/formats/printing.py\u001b[0m in \u001b[0;36mpprint_thing\u001b[0;34m(thing, _nest_lvl, escape_chars, default_escapes, quote_strings, max_seq_items)\u001b[0m\n\u001b[1;32m    218\u001b[0m         result = _pprint_seq(thing, _nest_lvl, escape_chars=escape_chars,\n\u001b[1;32m    219\u001b[0m                              \u001b[0mquote_strings\u001b[0m\u001b[0;34m=\u001b[0m\u001b[0mquote_strings\u001b[0m\u001b[0;34m,\u001b[0m\u001b[0;34m\u001b[0m\u001b[0;34m\u001b[0m\u001b[0m\n\u001b[0;32m--> 220\u001b[0;31m                              max_seq_items=max_seq_items)\n\u001b[0m\u001b[1;32m    221\u001b[0m     \u001b[0;32melif\u001b[0m \u001b[0misinstance\u001b[0m\u001b[0;34m(\u001b[0m\u001b[0mthing\u001b[0m\u001b[0;34m,\u001b[0m \u001b[0mcompat\u001b[0m\u001b[0;34m.\u001b[0m\u001b[0mstring_types\u001b[0m\u001b[0;34m)\u001b[0m \u001b[0;32mand\u001b[0m \u001b[0mquote_strings\u001b[0m\u001b[0;34m:\u001b[0m\u001b[0;34m\u001b[0m\u001b[0;34m\u001b[0m\u001b[0m\n\u001b[1;32m    222\u001b[0m         \u001b[0;32mif\u001b[0m \u001b[0mcompat\u001b[0m\u001b[0;34m.\u001b[0m\u001b[0mPY3\u001b[0m\u001b[0;34m:\u001b[0m\u001b[0;34m\u001b[0m\u001b[0;34m\u001b[0m\u001b[0m\n",
      "\u001b[0;32m~/anaconda3/lib/python3.7/site-packages/pandas/io/formats/printing.py\u001b[0m in \u001b[0;36m_pprint_seq\u001b[0;34m(seq, _nest_lvl, max_seq_items, **kwds)\u001b[0m\n\u001b[1;32m    108\u001b[0m         \u001b[0mnitems\u001b[0m \u001b[0;34m=\u001b[0m \u001b[0mlen\u001b[0m\u001b[0;34m(\u001b[0m\u001b[0mseq\u001b[0m\u001b[0;34m)\u001b[0m\u001b[0;34m\u001b[0m\u001b[0;34m\u001b[0m\u001b[0m\n\u001b[1;32m    109\u001b[0m     \u001b[0;32melse\u001b[0m\u001b[0;34m:\u001b[0m\u001b[0;34m\u001b[0m\u001b[0;34m\u001b[0m\u001b[0m\n\u001b[0;32m--> 110\u001b[0;31m         \u001b[0mnitems\u001b[0m \u001b[0;34m=\u001b[0m \u001b[0mmax_seq_items\u001b[0m \u001b[0;32mor\u001b[0m \u001b[0mget_option\u001b[0m\u001b[0;34m(\u001b[0m\u001b[0;34m\"max_seq_items\"\u001b[0m\u001b[0;34m)\u001b[0m \u001b[0;32mor\u001b[0m \u001b[0mlen\u001b[0m\u001b[0;34m(\u001b[0m\u001b[0mseq\u001b[0m\u001b[0;34m)\u001b[0m\u001b[0;34m\u001b[0m\u001b[0;34m\u001b[0m\u001b[0m\n\u001b[0m\u001b[1;32m    111\u001b[0m \u001b[0;34m\u001b[0m\u001b[0m\n\u001b[1;32m    112\u001b[0m     \u001b[0ms\u001b[0m \u001b[0;34m=\u001b[0m \u001b[0miter\u001b[0m\u001b[0;34m(\u001b[0m\u001b[0mseq\u001b[0m\u001b[0;34m)\u001b[0m\u001b[0;34m\u001b[0m\u001b[0;34m\u001b[0m\u001b[0m\n",
      "\u001b[0;32m~/anaconda3/lib/python3.7/site-packages/pandas/core/config.py\u001b[0m in \u001b[0;36m__call__\u001b[0;34m(self, *args, **kwds)\u001b[0m\n\u001b[1;32m    225\u001b[0m \u001b[0;34m\u001b[0m\u001b[0m\n\u001b[1;32m    226\u001b[0m     \u001b[0;32mdef\u001b[0m \u001b[0m__call__\u001b[0m\u001b[0;34m(\u001b[0m\u001b[0mself\u001b[0m\u001b[0;34m,\u001b[0m \u001b[0;34m*\u001b[0m\u001b[0margs\u001b[0m\u001b[0;34m,\u001b[0m \u001b[0;34m**\u001b[0m\u001b[0mkwds\u001b[0m\u001b[0;34m)\u001b[0m\u001b[0;34m:\u001b[0m\u001b[0;34m\u001b[0m\u001b[0;34m\u001b[0m\u001b[0m\n\u001b[0;32m--> 227\u001b[0;31m         \u001b[0;32mreturn\u001b[0m \u001b[0mself\u001b[0m\u001b[0;34m.\u001b[0m\u001b[0m__func__\u001b[0m\u001b[0;34m(\u001b[0m\u001b[0;34m*\u001b[0m\u001b[0margs\u001b[0m\u001b[0;34m,\u001b[0m \u001b[0;34m**\u001b[0m\u001b[0mkwds\u001b[0m\u001b[0;34m)\u001b[0m\u001b[0;34m\u001b[0m\u001b[0;34m\u001b[0m\u001b[0m\n\u001b[0m\u001b[1;32m    228\u001b[0m \u001b[0;34m\u001b[0m\u001b[0m\n\u001b[1;32m    229\u001b[0m     \u001b[0;34m@\u001b[0m\u001b[0mproperty\u001b[0m\u001b[0;34m\u001b[0m\u001b[0;34m\u001b[0m\u001b[0m\n",
      "\u001b[0;32m~/anaconda3/lib/python3.7/site-packages/pandas/core/config.py\u001b[0m in \u001b[0;36m_get_option\u001b[0;34m(pat, silent)\u001b[0m\n\u001b[1;32m     95\u001b[0m \u001b[0;34m\u001b[0m\u001b[0m\n\u001b[1;32m     96\u001b[0m \u001b[0;32mdef\u001b[0m \u001b[0m_get_option\u001b[0m\u001b[0;34m(\u001b[0m\u001b[0mpat\u001b[0m\u001b[0;34m,\u001b[0m \u001b[0msilent\u001b[0m\u001b[0;34m=\u001b[0m\u001b[0;32mFalse\u001b[0m\u001b[0;34m)\u001b[0m\u001b[0;34m:\u001b[0m\u001b[0;34m\u001b[0m\u001b[0;34m\u001b[0m\u001b[0m\n\u001b[0;32m---> 97\u001b[0;31m     \u001b[0mkey\u001b[0m \u001b[0;34m=\u001b[0m \u001b[0m_get_single_key\u001b[0m\u001b[0;34m(\u001b[0m\u001b[0mpat\u001b[0m\u001b[0;34m,\u001b[0m \u001b[0msilent\u001b[0m\u001b[0;34m)\u001b[0m\u001b[0;34m\u001b[0m\u001b[0;34m\u001b[0m\u001b[0m\n\u001b[0m\u001b[1;32m     98\u001b[0m \u001b[0;34m\u001b[0m\u001b[0m\n\u001b[1;32m     99\u001b[0m     \u001b[0;31m# walk the nested dict\u001b[0m\u001b[0;34m\u001b[0m\u001b[0;34m\u001b[0m\u001b[0;34m\u001b[0m\u001b[0m\n",
      "\u001b[0;32m~/anaconda3/lib/python3.7/site-packages/pandas/core/config.py\u001b[0m in \u001b[0;36m_get_single_key\u001b[0;34m(pat, silent)\u001b[0m\n\u001b[1;32m     77\u001b[0m \u001b[0;34m\u001b[0m\u001b[0m\n\u001b[1;32m     78\u001b[0m \u001b[0;32mdef\u001b[0m \u001b[0m_get_single_key\u001b[0m\u001b[0;34m(\u001b[0m\u001b[0mpat\u001b[0m\u001b[0;34m,\u001b[0m \u001b[0msilent\u001b[0m\u001b[0;34m)\u001b[0m\u001b[0;34m:\u001b[0m\u001b[0;34m\u001b[0m\u001b[0;34m\u001b[0m\u001b[0m\n\u001b[0;32m---> 79\u001b[0;31m     \u001b[0mkeys\u001b[0m \u001b[0;34m=\u001b[0m \u001b[0m_select_options\u001b[0m\u001b[0;34m(\u001b[0m\u001b[0mpat\u001b[0m\u001b[0;34m)\u001b[0m\u001b[0;34m\u001b[0m\u001b[0;34m\u001b[0m\u001b[0m\n\u001b[0m\u001b[1;32m     80\u001b[0m     \u001b[0;32mif\u001b[0m \u001b[0mlen\u001b[0m\u001b[0;34m(\u001b[0m\u001b[0mkeys\u001b[0m\u001b[0;34m)\u001b[0m \u001b[0;34m==\u001b[0m \u001b[0;36m0\u001b[0m\u001b[0;34m:\u001b[0m\u001b[0;34m\u001b[0m\u001b[0;34m\u001b[0m\u001b[0m\n\u001b[1;32m     81\u001b[0m         \u001b[0;32mif\u001b[0m \u001b[0;32mnot\u001b[0m \u001b[0msilent\u001b[0m\u001b[0;34m:\u001b[0m\u001b[0;34m\u001b[0m\u001b[0;34m\u001b[0m\u001b[0m\n",
      "\u001b[0;32m~/anaconda3/lib/python3.7/site-packages/pandas/core/config.py\u001b[0m in \u001b[0;36m_select_options\u001b[0;34m(pat)\u001b[0m\n\u001b[1;32m    541\u001b[0m         \u001b[0;32mreturn\u001b[0m \u001b[0mkeys\u001b[0m\u001b[0;34m\u001b[0m\u001b[0;34m\u001b[0m\u001b[0m\n\u001b[1;32m    542\u001b[0m \u001b[0;34m\u001b[0m\u001b[0m\n\u001b[0;32m--> 543\u001b[0;31m     \u001b[0;32mreturn\u001b[0m \u001b[0;34m[\u001b[0m\u001b[0mk\u001b[0m \u001b[0;32mfor\u001b[0m \u001b[0mk\u001b[0m \u001b[0;32min\u001b[0m \u001b[0mkeys\u001b[0m \u001b[0;32mif\u001b[0m \u001b[0mre\u001b[0m\u001b[0;34m.\u001b[0m\u001b[0msearch\u001b[0m\u001b[0;34m(\u001b[0m\u001b[0mpat\u001b[0m\u001b[0;34m,\u001b[0m \u001b[0mk\u001b[0m\u001b[0;34m,\u001b[0m \u001b[0mre\u001b[0m\u001b[0;34m.\u001b[0m\u001b[0mI\u001b[0m\u001b[0;34m)\u001b[0m\u001b[0;34m]\u001b[0m\u001b[0;34m\u001b[0m\u001b[0;34m\u001b[0m\u001b[0m\n\u001b[0m\u001b[1;32m    544\u001b[0m \u001b[0;34m\u001b[0m\u001b[0m\n\u001b[1;32m    545\u001b[0m \u001b[0;34m\u001b[0m\u001b[0m\n",
      "\u001b[0;31mKeyboardInterrupt\u001b[0m: "
     ]
    }
   ],
   "source": [
    "# UV_decomposition(empty, n=5, m=5)\n",
    "# d = empty.set_index(['from', 'to']).T.to_dict('list')\n",
    "# U, V = UV_decomposition(d, n=5, m=5)\n",
    "# print(d)\n",
    "# print(d[1, 2])\n",
    "# print(d.get((2, 1), None))\n",
    "\n",
    "U, V = UV_decomposition(train_user_artist_data, n=len(user), m=len(artist))"
   ]
  },
  {
   "cell_type": "markdown",
   "metadata": {},
   "source": [
    "简单计算了一下复杂度，以当前笔记本（MacBook Air 2017 i5）的运算能力，进行1亿次加法所需时间为5s左右。计算一次UV分解后，需要计算RMSE，即需要计算UV之间的乘法，进行的计算为1.4e5 * 1.6e6 = 2.2e11次，大约需要4个小时，显然这样的运算时间在笔记本上是不能完成的。\n",
    "\n",
    "可能需要更好的方法来实现。"
   ]
  },
  {
   "cell_type": "code",
   "execution_count": null,
   "metadata": {},
   "outputs": [],
   "source": []
  }
 ],
 "metadata": {
  "kernelspec": {
   "display_name": "Python 3",
   "language": "python",
   "name": "python3"
  },
  "language_info": {
   "codemirror_mode": {
    "name": "ipython",
    "version": 3
   },
   "file_extension": ".py",
   "mimetype": "text/x-python",
   "name": "python",
   "nbconvert_exporter": "python",
   "pygments_lexer": "ipython3",
   "version": "3.7.3"
  }
 },
 "nbformat": 4,
 "nbformat_minor": 2
}
